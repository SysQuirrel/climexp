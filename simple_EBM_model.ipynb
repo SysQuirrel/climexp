{
 "cells": [
  {
   "cell_type": "code",
   "execution_count": null,
   "id": "b0ad2228",
   "metadata": {},
   "outputs": [],
   "source": []
  }
 ],
 "metadata": {
  "kernelspec": {
   "display_name": "climate",
   "language": "python",
   "name": "python3"
  },
  "language_info": {
   "name": "python",
   "version": "3.13.5"
  }
 },
 "nbformat": 4,
 "nbformat_minor": 5
}
