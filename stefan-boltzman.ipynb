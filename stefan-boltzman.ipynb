{
 "cells": [
  {
   "cell_type": "markdown",
   "id": "738eb2d4",
   "metadata": {},
   "source": [
    "## Stefan–Boltzmann Law\n",
    "Let's plot the Energy $(Wm^{-2})$ vs Temperature (K) using the Stefan's law. You can tweak the notebook variables to change the graph\n",
    "$$ E = \\epsilon \\sigma T^4 $$\n",
    "\n",
    "E = total emitted power per unit area $(Wm^{-2})$\\\n",
    "σ = 5.670374419×$10^{−8}$ $(Wm^{-2}K^{-4})$\\\n",
    "T = absolute temperature (K)"
   ]
  },
  {
   "cell_type": "code",
   "execution_count": 1,
   "id": "1101c179",
   "metadata": {},
   "outputs": [],
   "source": [
    "import numpy as np\n",
    "import matplotlib.pyplot as plt\n",
    "import ipywidgets as widgets"
   ]
  },
  {
   "cell_type": "code",
   "execution_count": null,
   "id": "0a6ca73c",
   "metadata": {},
   "outputs": [
    {
     "data": {
      "application/vnd.jupyter.widget-view+json": {
       "model_id": "1790ac6adc4f4c4581fbbad4cd09b7c1",
       "version_major": 2,
       "version_minor": 0
      },
      "text/plain": [
       "interactive(children=(FloatSlider(value=1.0, continuous_update=False, description='epsilon:', max=1.0, step=0.…"
      ]
     },
     "metadata": {},
     "output_type": "display_data"
    }
   ],
   "source": [
    "sigma = 5.670374419e-8\n",
    "T = np.linspace(0, 3000, 100) #temperatures in Kelvin\n",
    "\n",
    "def plot_stefan_boltzmann(epsilon):\n",
    "    E = epsilon * sigma * T**4  # Correct formula\n",
    "    \n",
    "    plt.figure(figsize=(8, 6))\n",
    "    plt.plot(T, E)\n",
    "    plt.xlabel(\"Temperature (K)\")\n",
    "    plt.ylabel(\"Emitted Power (W/m²)\")\n",
    "    plt.title(f\"Stefan–Boltzmann Law: E = εσT⁴ (ε = {epsilon:.2f})\")\n",
    "    plt.grid(True)\n",
    "    plt.show()\n",
    "\n",
    "e = widgets.FloatSlider(\n",
    "    value=1.00,\n",
    "    min=0,\n",
    "    max=1.00,\n",
    "    step=0.01,\n",
    "    description='epsilon:',\n",
    "    disabled=False,\n",
    "    continuous_update=False,\n",
    "    orientation='horizontal',\n",
    "    readout=True,\n",
    "    readout_format='.2f',\n",
    ")\n",
    "\n",
    "# Create interactive plot\n",
    "interactive_plot = widgets.interactive(plot_stefan_boltzmann, epsilon=e)\n",
    "display(interactive_plot)\n"
   ]
  }
 ],
 "metadata": {
  "kernelspec": {
   "display_name": "climate",
   "language": "python",
   "name": "python3"
  },
  "language_info": {
   "codemirror_mode": {
    "name": "ipython",
    "version": 3
   },
   "file_extension": ".py",
   "mimetype": "text/x-python",
   "name": "python",
   "nbconvert_exporter": "python",
   "pygments_lexer": "ipython3",
   "version": "3.13.5"
  }
 },
 "nbformat": 4,
 "nbformat_minor": 5
}
