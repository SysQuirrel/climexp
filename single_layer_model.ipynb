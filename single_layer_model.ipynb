{
 "cells": [
  {
   "cell_type": "markdown",
   "id": "4b9d0fee",
   "metadata": {},
   "source": [
    "### Single Layer Model\n",
    "In this model will add the greenhouse effect to visualize how earth keeps part of Sun's energy to thrive life. \n"
   ]
  },
  {
   "cell_type": "code",
   "execution_count": null,
   "id": "4cca8c95",
   "metadata": {},
   "outputs": [
    {
     "ename": "TypeError",
     "evalue": "'float' object cannot be interpreted as an integer",
     "output_type": "error",
     "traceback": [
      "\u001b[31m---------------------------------------------------------------------------\u001b[39m",
      "\u001b[31mTypeError\u001b[39m                                 Traceback (most recent call last)",
      "\u001b[36mCell\u001b[39m\u001b[36m \u001b[39m\u001b[32mIn[14]\u001b[39m\u001b[32m, line 6\u001b[39m\n\u001b[32m      4\u001b[39m sigma = \u001b[32m5.670374419e-8\u001b[39m\n\u001b[32m      5\u001b[39m I = \u001b[32m1361\u001b[39m\n\u001b[32m----> \u001b[39m\u001b[32m6\u001b[39m e = \u001b[43mnp\u001b[49m\u001b[43m.\u001b[49m\u001b[43mlinspace\u001b[49m\u001b[43m(\u001b[49m\u001b[32;43m0.6\u001b[39;49m\u001b[43m,\u001b[49m\u001b[43m \u001b[49m\u001b[32;43m1.05\u001b[39;49m\u001b[43m,\u001b[49m\u001b[43m \u001b[49m\u001b[32;43m0.05\u001b[39;49m\u001b[43m)\u001b[49m \u001b[38;5;66;03m#read the NASA blog on earth's emissivity below\u001b[39;00m\n\u001b[32m      7\u001b[39m alpha = \u001b[32m0.3\u001b[39m\n\u001b[32m      9\u001b[39m \u001b[38;5;28;01mdef\u001b[39;00m\u001b[38;5;250m \u001b[39m\u001b[34msingle_layer_model\u001b[39m(e):\n",
      "\u001b[36mFile \u001b[39m\u001b[32m~/anaconda3/envs/climate/lib/python3.13/site-packages/numpy/_core/function_base.py:121\u001b[39m, in \u001b[36mlinspace\u001b[39m\u001b[34m(start, stop, num, endpoint, retstep, dtype, axis, device)\u001b[39m\n\u001b[32m     25\u001b[39m \u001b[38;5;129m@array_function_dispatch\u001b[39m(_linspace_dispatcher)\n\u001b[32m     26\u001b[39m \u001b[38;5;28;01mdef\u001b[39;00m\u001b[38;5;250m \u001b[39m\u001b[34mlinspace\u001b[39m(start, stop, num=\u001b[32m50\u001b[39m, endpoint=\u001b[38;5;28;01mTrue\u001b[39;00m, retstep=\u001b[38;5;28;01mFalse\u001b[39;00m, dtype=\u001b[38;5;28;01mNone\u001b[39;00m,\n\u001b[32m     27\u001b[39m              axis=\u001b[32m0\u001b[39m, *, device=\u001b[38;5;28;01mNone\u001b[39;00m):\n\u001b[32m     28\u001b[39m \u001b[38;5;250m    \u001b[39m\u001b[33;03m\"\"\"\u001b[39;00m\n\u001b[32m     29\u001b[39m \u001b[33;03m    Return evenly spaced numbers over a specified interval.\u001b[39;00m\n\u001b[32m     30\u001b[39m \n\u001b[32m   (...)\u001b[39m\u001b[32m    119\u001b[39m \n\u001b[32m    120\u001b[39m \u001b[33;03m    \"\"\"\u001b[39;00m\n\u001b[32m--> \u001b[39m\u001b[32m121\u001b[39m     num = \u001b[43moperator\u001b[49m\u001b[43m.\u001b[49m\u001b[43mindex\u001b[49m\u001b[43m(\u001b[49m\u001b[43mnum\u001b[49m\u001b[43m)\u001b[49m\n\u001b[32m    122\u001b[39m     \u001b[38;5;28;01mif\u001b[39;00m num < \u001b[32m0\u001b[39m:\n\u001b[32m    123\u001b[39m         \u001b[38;5;28;01mraise\u001b[39;00m \u001b[38;5;167;01mValueError\u001b[39;00m(\n\u001b[32m    124\u001b[39m             \u001b[33m\"\u001b[39m\u001b[33mNumber of samples, \u001b[39m\u001b[38;5;132;01m%s\u001b[39;00m\u001b[33m, must be non-negative.\u001b[39m\u001b[33m\"\u001b[39m % num\n\u001b[32m    125\u001b[39m         )\n",
      "\u001b[31mTypeError\u001b[39m: 'float' object cannot be interpreted as an integer"
     ]
    }
   ],
   "source": [
    "import numpy as np\n",
    "import matplotlib.pyplot as plt\n",
    "\n",
    "sigma = 5.670374419e-8\n",
    "I = 1361\n",
    "e = np.arange(0.6, 1.05, 0.05) #read the NASA blog on earth's emissivity below\n",
    "# don't worry about the 1.05 value, it's there so that we can get the emissivity of 1.0\n",
    "# read this https://stackoverflow.com/a/65893961 for better understanding\n",
    "alpha = 0.3\n",
    "\n",
    "def single_layer_model(e):\n",
    "    t_atmosphere = ((1-alpha)*I/(e*sigma*4))**(1/4) - 273\n",
    "    t_ground = t_atmosphere*(2**(1/4)) - 273\n",
    "\n",
    "    plt.figure(figsize=(7,5))\n",
    "    plt.plot(e, t_atmosphere, color='red', label='Atmosphere Temperature')\n",
    "    plt.plot(e, t_ground, color='blue', label='Ground Temperature')\n",
    "    plt.xlabel('Emissivity')\n",
    "    plt.ylabel('Temperature (C)')\n",
    "    plt.title('Single Layer Model')\n",
    "    plt.legend()\n",
    "    plt.grid(True)\n",
    "    plt.show()\n",
    "\n",
    "single_layer_model(e)"
   ]
  },
  {
   "cell_type": "markdown",
   "id": "049176cb",
   "metadata": {},
   "source": [
    "you can read more about earth's emissivity [here](https://www.jpl.nasa.gov/images/pia18833-nasa-spacecraft-maps-earths-global-emissivity/)"
   ]
  },
  {
   "cell_type": "markdown",
   "id": "288255f2",
   "metadata": {},
   "source": []
  }
 ],
 "metadata": {
  "kernelspec": {
   "display_name": "climate",
   "language": "python",
   "name": "python3"
  },
  "language_info": {
   "codemirror_mode": {
    "name": "ipython",
    "version": 3
   },
   "file_extension": ".py",
   "mimetype": "text/x-python",
   "name": "python",
   "nbconvert_exporter": "python",
   "pygments_lexer": "ipython3",
   "version": "3.13.5"
  }
 },
 "nbformat": 4,
 "nbformat_minor": 5
}
